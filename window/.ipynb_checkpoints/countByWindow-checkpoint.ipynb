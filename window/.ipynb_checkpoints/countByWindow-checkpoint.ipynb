{
 "cells": [
  {
   "cell_type": "code",
   "execution_count": 13,
   "id": "680c3ea5",
   "metadata": {},
   "outputs": [],
   "source": [
    "import findspark\n",
    "findspark.init('/home/dilnawazashraf/spark-3.3.1-bin-hadoop2/')"
   ]
  },
  {
   "cell_type": "code",
   "execution_count": 14,
   "id": "0514b77d",
   "metadata": {},
   "outputs": [],
   "source": [
    "from pyspark import SparkContext\n",
    "from pyspark.streaming import StreamingContext"
   ]
  },
  {
   "cell_type": "code",
   "execution_count": 15,
   "id": "593e4493",
   "metadata": {},
   "outputs": [],
   "source": [
    "#initializing spark context and streaming context\n",
    "sc=SparkContext(master=\"local[2]\",appName=\"CountByWindow Test application\")\n",
    "ssc=StreamingContext(sc,1)\n",
    "ssc.checkpoint(\"checkpoint\")"
   ]
  },
  {
   "cell_type": "code",
   "execution_count": 27,
   "id": "324a018d",
   "metadata": {},
   "outputs": [],
   "source": [
    "lines=ssc.socketTextStream(\"localhost\",6666)"
   ]
  },
  {
   "cell_type": "code",
   "execution_count": 28,
   "id": "01fffd45",
   "metadata": {},
   "outputs": [],
   "source": [
    "words = lines.flatMap(lambda line: line.split(\" \"))\n",
    "pairs = words.map(lambda word: (word, 1))\n",
    "pairs.countByWindow(30, 10).pprint()"
   ]
  },
  {
   "cell_type": "code",
   "execution_count": null,
   "id": "eff46407",
   "metadata": {},
   "outputs": [],
   "source": []
  }
 ],
 "metadata": {
  "kernelspec": {
   "display_name": "Python 3 (ipykernel)",
   "language": "python",
   "name": "python3"
  },
  "language_info": {
   "codemirror_mode": {
    "name": "ipython",
    "version": 3
   },
   "file_extension": ".py",
   "mimetype": "text/x-python",
   "name": "python",
   "nbconvert_exporter": "python",
   "pygments_lexer": "ipython3",
   "version": "3.10.4"
  }
 },
 "nbformat": 4,
 "nbformat_minor": 5
}
